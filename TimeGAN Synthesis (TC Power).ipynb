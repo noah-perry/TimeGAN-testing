{
 "cells": [
  {
   "cell_type": "markdown",
   "id": "e08971d0",
   "metadata": {},
   "source": [
    "### Time Series GAN - Data Synthesis\n",
    "\n",
    "**Author:** Noah Perry\n",
    "\n",
    "**Overview:** This notebook contains code to generate a synthetic version of the Tetouan City power consumption dataset.\n",
    "\n",
    "**Data description:** The Tetouan City power consumption dataset contains weather and power consumption data recorded every 10 minutes from January 1, 2017 to December 30, 2017. There are 52,416 observations and 9 variables.\n",
    "\n",
    "I obtain this dataset through the UCI Machine Learning Repository.\n",
    "\n",
    "Link to data source: https://archive.ics.uci.edu/dataset/849/power+consumption+of+tetouan+city\n",
    "\n",
    "For this analysis, I aggregated the data by day as follows:\n",
    "\n",
    "| Variable | Aggregation Function |\n",
    "| :-: | :-: |\n",
    "| Date | N/A |\n",
    "| Temperature | Mean  |\n",
    "| Humidity | Mean |\n",
    "| Wind Speed | Mean  |\n",
    "| General Diffuse Flows | Sum |\n",
    "| Diffuse Flows | Sum |\n",
    "| Zone 1 Power Consumption | Sum  |\n",
    "| Zone 2 Power Consumption | Sum  |\n",
    "| Zone 3 Power Consumption | Sum |\n",
    "\n",
    "The aggregated dataset contains 364 observations and 9 variables.\n",
    "\n",
    "**Method:** A Time Series Generative Adversarial Network is an neural network architecture designed for generating synthetic time-series data. I use YData's implementation `TimeGAN` in their `ydata-synthetic` Python package.\n",
    "\n",
    "Link to paper on time series GANs: https://papers.nips.cc/paper/2019/file/c9efe5f26cd17ba6216bbe2a7d26d490-Paper.pdf\n",
    "\n",
    "Link to `ydata-synthetic` GitHub repo: https://github.com/ydataai/ydata-synthetic"
   ]
  },
  {
   "cell_type": "markdown",
   "id": "a5ca1ac8",
   "metadata": {},
   "source": [
    "### Setup"
   ]
  },
  {
   "cell_type": "code",
   "execution_count": 1,
   "id": "238a05a5",
   "metadata": {},
   "outputs": [],
   "source": [
    "#pip install ydata-synthetic"
   ]
  },
  {
   "cell_type": "code",
   "execution_count": 2,
   "id": "609ededb",
   "metadata": {},
   "outputs": [],
   "source": [
    "# Packages\n",
    "import os\n",
    "import pandas as pd\n",
    "import pickle\n",
    "import numpy as np\n",
    "import matplotlib.pyplot as plt\n",
    "from sklearn.preprocessing import MinMaxScaler\n",
    "import tensorflow as tf\n",
    "from ydata_synthetic.synthesizers import ModelParameters\n",
    "from ydata_synthetic.synthesizers.timeseries.timegan.model import TimeGAN"
   ]
  },
  {
   "cell_type": "markdown",
   "id": "2802d092",
   "metadata": {},
   "source": [
    "### Import Raw Data"
   ]
  },
  {
   "cell_type": "code",
   "execution_count": 3,
   "id": "4314e344",
   "metadata": {},
   "outputs": [],
   "source": [
    "# Read in data\n",
    "tc_pwr_10m = pd.read_csv(\"Tetuan City power consumption.csv\", \n",
    "                     header = 0, \n",
    "                     names = [\"datetime\", \"temp\", \"humidity\", \"wind_speed\", \"gen_diff_flows\", \"diff_flows\", \"z1_pwr\", \"z2_pwr\", \"z3_pwr\"], \n",
    "                     parse_dates = [0])"
   ]
  },
  {
   "cell_type": "markdown",
   "id": "312bfdc4",
   "metadata": {},
   "source": [
    "### Data Exploration"
   ]
  },
  {
   "cell_type": "code",
   "execution_count": 4,
   "id": "162dc0cd",
   "metadata": {},
   "outputs": [
    {
     "data": {
      "text/html": [
       "<div>\n",
       "<style scoped>\n",
       "    .dataframe tbody tr th:only-of-type {\n",
       "        vertical-align: middle;\n",
       "    }\n",
       "\n",
       "    .dataframe tbody tr th {\n",
       "        vertical-align: top;\n",
       "    }\n",
       "\n",
       "    .dataframe thead th {\n",
       "        text-align: right;\n",
       "    }\n",
       "</style>\n",
       "<table border=\"1\" class=\"dataframe\">\n",
       "  <thead>\n",
       "    <tr style=\"text-align: right;\">\n",
       "      <th></th>\n",
       "      <th>datetime</th>\n",
       "      <th>temp</th>\n",
       "      <th>humidity</th>\n",
       "      <th>wind_speed</th>\n",
       "      <th>gen_diff_flows</th>\n",
       "      <th>diff_flows</th>\n",
       "      <th>z1_pwr</th>\n",
       "      <th>z2_pwr</th>\n",
       "      <th>z3_pwr</th>\n",
       "    </tr>\n",
       "  </thead>\n",
       "  <tbody>\n",
       "    <tr>\n",
       "      <th>0</th>\n",
       "      <td>2017-01-01 00:00:00</td>\n",
       "      <td>6.559</td>\n",
       "      <td>73.8</td>\n",
       "      <td>0.083</td>\n",
       "      <td>0.051</td>\n",
       "      <td>0.119</td>\n",
       "      <td>34055.69620</td>\n",
       "      <td>16128.87538</td>\n",
       "      <td>20240.96386</td>\n",
       "    </tr>\n",
       "    <tr>\n",
       "      <th>1</th>\n",
       "      <td>2017-01-01 00:10:00</td>\n",
       "      <td>6.414</td>\n",
       "      <td>74.5</td>\n",
       "      <td>0.083</td>\n",
       "      <td>0.070</td>\n",
       "      <td>0.085</td>\n",
       "      <td>29814.68354</td>\n",
       "      <td>19375.07599</td>\n",
       "      <td>20131.08434</td>\n",
       "    </tr>\n",
       "    <tr>\n",
       "      <th>2</th>\n",
       "      <td>2017-01-01 00:20:00</td>\n",
       "      <td>6.313</td>\n",
       "      <td>74.5</td>\n",
       "      <td>0.080</td>\n",
       "      <td>0.062</td>\n",
       "      <td>0.100</td>\n",
       "      <td>29128.10127</td>\n",
       "      <td>19006.68693</td>\n",
       "      <td>19668.43373</td>\n",
       "    </tr>\n",
       "    <tr>\n",
       "      <th>3</th>\n",
       "      <td>2017-01-01 00:30:00</td>\n",
       "      <td>6.121</td>\n",
       "      <td>75.0</td>\n",
       "      <td>0.083</td>\n",
       "      <td>0.091</td>\n",
       "      <td>0.096</td>\n",
       "      <td>28228.86076</td>\n",
       "      <td>18361.09422</td>\n",
       "      <td>18899.27711</td>\n",
       "    </tr>\n",
       "    <tr>\n",
       "      <th>4</th>\n",
       "      <td>2017-01-01 00:40:00</td>\n",
       "      <td>5.921</td>\n",
       "      <td>75.7</td>\n",
       "      <td>0.081</td>\n",
       "      <td>0.048</td>\n",
       "      <td>0.085</td>\n",
       "      <td>27335.69620</td>\n",
       "      <td>17872.34043</td>\n",
       "      <td>18442.40964</td>\n",
       "    </tr>\n",
       "  </tbody>\n",
       "</table>\n",
       "</div>"
      ],
      "text/plain": [
       "             datetime   temp  humidity  wind_speed  gen_diff_flows  \\\n",
       "0 2017-01-01 00:00:00  6.559      73.8       0.083           0.051   \n",
       "1 2017-01-01 00:10:00  6.414      74.5       0.083           0.070   \n",
       "2 2017-01-01 00:20:00  6.313      74.5       0.080           0.062   \n",
       "3 2017-01-01 00:30:00  6.121      75.0       0.083           0.091   \n",
       "4 2017-01-01 00:40:00  5.921      75.7       0.081           0.048   \n",
       "\n",
       "   diff_flows       z1_pwr       z2_pwr       z3_pwr  \n",
       "0       0.119  34055.69620  16128.87538  20240.96386  \n",
       "1       0.085  29814.68354  19375.07599  20131.08434  \n",
       "2       0.100  29128.10127  19006.68693  19668.43373  \n",
       "3       0.096  28228.86076  18361.09422  18899.27711  \n",
       "4       0.085  27335.69620  17872.34043  18442.40964  "
      ]
     },
     "execution_count": 4,
     "metadata": {},
     "output_type": "execute_result"
    }
   ],
   "source": [
    "tc_pwr_10m.head()"
   ]
  },
  {
   "cell_type": "code",
   "execution_count": 5,
   "id": "3b4a6869",
   "metadata": {},
   "outputs": [
    {
     "data": {
      "text/html": [
       "<div>\n",
       "<style scoped>\n",
       "    .dataframe tbody tr th:only-of-type {\n",
       "        vertical-align: middle;\n",
       "    }\n",
       "\n",
       "    .dataframe tbody tr th {\n",
       "        vertical-align: top;\n",
       "    }\n",
       "\n",
       "    .dataframe thead th {\n",
       "        text-align: right;\n",
       "    }\n",
       "</style>\n",
       "<table border=\"1\" class=\"dataframe\">\n",
       "  <thead>\n",
       "    <tr style=\"text-align: right;\">\n",
       "      <th></th>\n",
       "      <th>datetime</th>\n",
       "      <th>temp</th>\n",
       "      <th>humidity</th>\n",
       "      <th>wind_speed</th>\n",
       "      <th>gen_diff_flows</th>\n",
       "      <th>diff_flows</th>\n",
       "      <th>z1_pwr</th>\n",
       "      <th>z2_pwr</th>\n",
       "      <th>z3_pwr</th>\n",
       "    </tr>\n",
       "  </thead>\n",
       "  <tbody>\n",
       "    <tr>\n",
       "      <th>52411</th>\n",
       "      <td>2017-12-30 23:10:00</td>\n",
       "      <td>7.010</td>\n",
       "      <td>72.4</td>\n",
       "      <td>0.080</td>\n",
       "      <td>0.040</td>\n",
       "      <td>0.096</td>\n",
       "      <td>31160.45627</td>\n",
       "      <td>26857.31820</td>\n",
       "      <td>14780.31212</td>\n",
       "    </tr>\n",
       "    <tr>\n",
       "      <th>52412</th>\n",
       "      <td>2017-12-30 23:20:00</td>\n",
       "      <td>6.947</td>\n",
       "      <td>72.6</td>\n",
       "      <td>0.082</td>\n",
       "      <td>0.051</td>\n",
       "      <td>0.093</td>\n",
       "      <td>30430.41825</td>\n",
       "      <td>26124.57809</td>\n",
       "      <td>14428.81152</td>\n",
       "    </tr>\n",
       "    <tr>\n",
       "      <th>52413</th>\n",
       "      <td>2017-12-30 23:30:00</td>\n",
       "      <td>6.900</td>\n",
       "      <td>72.8</td>\n",
       "      <td>0.086</td>\n",
       "      <td>0.084</td>\n",
       "      <td>0.074</td>\n",
       "      <td>29590.87452</td>\n",
       "      <td>25277.69254</td>\n",
       "      <td>13806.48259</td>\n",
       "    </tr>\n",
       "    <tr>\n",
       "      <th>52414</th>\n",
       "      <td>2017-12-30 23:40:00</td>\n",
       "      <td>6.758</td>\n",
       "      <td>73.0</td>\n",
       "      <td>0.080</td>\n",
       "      <td>0.066</td>\n",
       "      <td>0.089</td>\n",
       "      <td>28958.17490</td>\n",
       "      <td>24692.23688</td>\n",
       "      <td>13512.60504</td>\n",
       "    </tr>\n",
       "    <tr>\n",
       "      <th>52415</th>\n",
       "      <td>2017-12-30 23:50:00</td>\n",
       "      <td>6.580</td>\n",
       "      <td>74.1</td>\n",
       "      <td>0.081</td>\n",
       "      <td>0.062</td>\n",
       "      <td>0.111</td>\n",
       "      <td>28349.80989</td>\n",
       "      <td>24055.23167</td>\n",
       "      <td>13345.49820</td>\n",
       "    </tr>\n",
       "  </tbody>\n",
       "</table>\n",
       "</div>"
      ],
      "text/plain": [
       "                 datetime   temp  humidity  wind_speed  gen_diff_flows  \\\n",
       "52411 2017-12-30 23:10:00  7.010      72.4       0.080           0.040   \n",
       "52412 2017-12-30 23:20:00  6.947      72.6       0.082           0.051   \n",
       "52413 2017-12-30 23:30:00  6.900      72.8       0.086           0.084   \n",
       "52414 2017-12-30 23:40:00  6.758      73.0       0.080           0.066   \n",
       "52415 2017-12-30 23:50:00  6.580      74.1       0.081           0.062   \n",
       "\n",
       "       diff_flows       z1_pwr       z2_pwr       z3_pwr  \n",
       "52411       0.096  31160.45627  26857.31820  14780.31212  \n",
       "52412       0.093  30430.41825  26124.57809  14428.81152  \n",
       "52413       0.074  29590.87452  25277.69254  13806.48259  \n",
       "52414       0.089  28958.17490  24692.23688  13512.60504  \n",
       "52415       0.111  28349.80989  24055.23167  13345.49820  "
      ]
     },
     "execution_count": 5,
     "metadata": {},
     "output_type": "execute_result"
    }
   ],
   "source": [
    "tc_pwr_10m.tail()"
   ]
  },
  {
   "cell_type": "code",
   "execution_count": 6,
   "id": "f4f76a7b",
   "metadata": {},
   "outputs": [
    {
     "data": {
      "text/plain": [
       "datetime          datetime64[ns]\n",
       "temp                     float64\n",
       "humidity                 float64\n",
       "wind_speed               float64\n",
       "gen_diff_flows           float64\n",
       "diff_flows               float64\n",
       "z1_pwr                   float64\n",
       "z2_pwr                   float64\n",
       "z3_pwr                   float64\n",
       "dtype: object"
      ]
     },
     "execution_count": 6,
     "metadata": {},
     "output_type": "execute_result"
    }
   ],
   "source": [
    "tc_pwr_10m.dtypes"
   ]
  },
  {
   "cell_type": "code",
   "execution_count": 7,
   "id": "d12ebedd",
   "metadata": {},
   "outputs": [
    {
     "data": {
      "text/plain": [
       "(52416, 9)"
      ]
     },
     "execution_count": 7,
     "metadata": {},
     "output_type": "execute_result"
    }
   ],
   "source": [
    "tc_pwr_10m.shape"
   ]
  },
  {
   "cell_type": "markdown",
   "id": "15105fc8",
   "metadata": {},
   "source": [
    "### Data Quality Assessment"
   ]
  },
  {
   "cell_type": "code",
   "execution_count": 8,
   "id": "cafdb948",
   "metadata": {},
   "outputs": [
    {
     "data": {
      "text/plain": [
       "datetime\n",
       "0 days 00:10:00    52415\n",
       "Name: count, dtype: int64"
      ]
     },
     "execution_count": 8,
     "metadata": {},
     "output_type": "execute_result"
    }
   ],
   "source": [
    "# Checking there are no gaps in time series\n",
    "tc_pwr_10m[\"datetime\"].diff().value_counts()"
   ]
  },
  {
   "cell_type": "code",
   "execution_count": 9,
   "id": "035562cf",
   "metadata": {},
   "outputs": [
    {
     "data": {
      "text/plain": [
       "datetime          0\n",
       "temp              0\n",
       "humidity          0\n",
       "wind_speed        0\n",
       "gen_diff_flows    0\n",
       "diff_flows        0\n",
       "z1_pwr            0\n",
       "z2_pwr            0\n",
       "z3_pwr            0\n",
       "dtype: int64"
      ]
     },
     "execution_count": 9,
     "metadata": {},
     "output_type": "execute_result"
    }
   ],
   "source": [
    "# Checking for missing values\n",
    "tc_pwr_10m.isna().sum()"
   ]
  },
  {
   "cell_type": "code",
   "execution_count": 10,
   "id": "55e1a658",
   "metadata": {},
   "outputs": [
    {
     "data": {
      "text/html": [
       "<div>\n",
       "<style scoped>\n",
       "    .dataframe tbody tr th:only-of-type {\n",
       "        vertical-align: middle;\n",
       "    }\n",
       "\n",
       "    .dataframe tbody tr th {\n",
       "        vertical-align: top;\n",
       "    }\n",
       "\n",
       "    .dataframe thead th {\n",
       "        text-align: right;\n",
       "    }\n",
       "</style>\n",
       "<table border=\"1\" class=\"dataframe\">\n",
       "  <thead>\n",
       "    <tr style=\"text-align: right;\">\n",
       "      <th></th>\n",
       "      <th>datetime</th>\n",
       "      <th>temp</th>\n",
       "      <th>humidity</th>\n",
       "      <th>wind_speed</th>\n",
       "      <th>gen_diff_flows</th>\n",
       "      <th>diff_flows</th>\n",
       "      <th>z1_pwr</th>\n",
       "      <th>z2_pwr</th>\n",
       "      <th>z3_pwr</th>\n",
       "    </tr>\n",
       "  </thead>\n",
       "  <tbody>\n",
       "    <tr>\n",
       "      <th>count</th>\n",
       "      <td>52416</td>\n",
       "      <td>52416.000000</td>\n",
       "      <td>52416.000000</td>\n",
       "      <td>52416.000000</td>\n",
       "      <td>52416.000000</td>\n",
       "      <td>52416.000000</td>\n",
       "      <td>52416.000000</td>\n",
       "      <td>52416.000000</td>\n",
       "      <td>52416.000000</td>\n",
       "    </tr>\n",
       "    <tr>\n",
       "      <th>mean</th>\n",
       "      <td>2017-07-01 23:55:00</td>\n",
       "      <td>18.810024</td>\n",
       "      <td>68.259518</td>\n",
       "      <td>1.959489</td>\n",
       "      <td>182.696614</td>\n",
       "      <td>75.028022</td>\n",
       "      <td>32344.970564</td>\n",
       "      <td>21042.509082</td>\n",
       "      <td>17835.406218</td>\n",
       "    </tr>\n",
       "    <tr>\n",
       "      <th>min</th>\n",
       "      <td>2017-01-01 00:00:00</td>\n",
       "      <td>3.247000</td>\n",
       "      <td>11.340000</td>\n",
       "      <td>0.050000</td>\n",
       "      <td>0.004000</td>\n",
       "      <td>0.011000</td>\n",
       "      <td>13895.696200</td>\n",
       "      <td>8560.081466</td>\n",
       "      <td>5935.174070</td>\n",
       "    </tr>\n",
       "    <tr>\n",
       "      <th>25%</th>\n",
       "      <td>2017-04-01 23:57:30</td>\n",
       "      <td>14.410000</td>\n",
       "      <td>58.310000</td>\n",
       "      <td>0.078000</td>\n",
       "      <td>0.062000</td>\n",
       "      <td>0.122000</td>\n",
       "      <td>26310.668692</td>\n",
       "      <td>16980.766032</td>\n",
       "      <td>13129.326630</td>\n",
       "    </tr>\n",
       "    <tr>\n",
       "      <th>50%</th>\n",
       "      <td>2017-07-01 23:55:00</td>\n",
       "      <td>18.780000</td>\n",
       "      <td>69.860000</td>\n",
       "      <td>0.086000</td>\n",
       "      <td>5.035500</td>\n",
       "      <td>4.456000</td>\n",
       "      <td>32265.920340</td>\n",
       "      <td>20823.168405</td>\n",
       "      <td>16415.117470</td>\n",
       "    </tr>\n",
       "    <tr>\n",
       "      <th>75%</th>\n",
       "      <td>2017-09-30 23:52:30</td>\n",
       "      <td>22.890000</td>\n",
       "      <td>81.400000</td>\n",
       "      <td>4.915000</td>\n",
       "      <td>319.600000</td>\n",
       "      <td>101.000000</td>\n",
       "      <td>37309.018185</td>\n",
       "      <td>24713.717520</td>\n",
       "      <td>21624.100420</td>\n",
       "    </tr>\n",
       "    <tr>\n",
       "      <th>max</th>\n",
       "      <td>2017-12-30 23:50:00</td>\n",
       "      <td>40.010000</td>\n",
       "      <td>94.800000</td>\n",
       "      <td>6.483000</td>\n",
       "      <td>1163.000000</td>\n",
       "      <td>936.000000</td>\n",
       "      <td>52204.395120</td>\n",
       "      <td>37408.860760</td>\n",
       "      <td>47598.326360</td>\n",
       "    </tr>\n",
       "    <tr>\n",
       "      <th>std</th>\n",
       "      <td>NaN</td>\n",
       "      <td>5.815476</td>\n",
       "      <td>15.551177</td>\n",
       "      <td>2.348862</td>\n",
       "      <td>264.400960</td>\n",
       "      <td>124.210949</td>\n",
       "      <td>7130.562564</td>\n",
       "      <td>5201.465892</td>\n",
       "      <td>6622.165099</td>\n",
       "    </tr>\n",
       "  </tbody>\n",
       "</table>\n",
       "</div>"
      ],
      "text/plain": [
       "                  datetime          temp      humidity    wind_speed  \\\n",
       "count                52416  52416.000000  52416.000000  52416.000000   \n",
       "mean   2017-07-01 23:55:00     18.810024     68.259518      1.959489   \n",
       "min    2017-01-01 00:00:00      3.247000     11.340000      0.050000   \n",
       "25%    2017-04-01 23:57:30     14.410000     58.310000      0.078000   \n",
       "50%    2017-07-01 23:55:00     18.780000     69.860000      0.086000   \n",
       "75%    2017-09-30 23:52:30     22.890000     81.400000      4.915000   \n",
       "max    2017-12-30 23:50:00     40.010000     94.800000      6.483000   \n",
       "std                    NaN      5.815476     15.551177      2.348862   \n",
       "\n",
       "       gen_diff_flows    diff_flows        z1_pwr        z2_pwr        z3_pwr  \n",
       "count    52416.000000  52416.000000  52416.000000  52416.000000  52416.000000  \n",
       "mean       182.696614     75.028022  32344.970564  21042.509082  17835.406218  \n",
       "min          0.004000      0.011000  13895.696200   8560.081466   5935.174070  \n",
       "25%          0.062000      0.122000  26310.668692  16980.766032  13129.326630  \n",
       "50%          5.035500      4.456000  32265.920340  20823.168405  16415.117470  \n",
       "75%        319.600000    101.000000  37309.018185  24713.717520  21624.100420  \n",
       "max       1163.000000    936.000000  52204.395120  37408.860760  47598.326360  \n",
       "std        264.400960    124.210949   7130.562564   5201.465892   6622.165099  "
      ]
     },
     "execution_count": 10,
     "metadata": {},
     "output_type": "execute_result"
    }
   ],
   "source": [
    "# Checking for extreme values\n",
    "tc_pwr_10m.describe()"
   ]
  },
  {
   "cell_type": "markdown",
   "id": "c29d827f",
   "metadata": {},
   "source": [
    "### Aggregate Data"
   ]
  },
  {
   "cell_type": "code",
   "execution_count": 11,
   "id": "7087443c",
   "metadata": {},
   "outputs": [],
   "source": [
    "# Aggregate to daily\n",
    "tc_pwr_10m[\"date\"] = pd.to_datetime(tc_pwr_10m[\"datetime\"]).dt.date\n",
    "\n",
    "tc_pwr_day = tc_pwr_10m.groupby(['date']).agg(\n",
    "    temp = ('temp', 'mean'),\n",
    "    humidity = ('humidity', 'mean'),\n",
    "    wind_speed = ('wind_speed', 'mean'),\n",
    "    gen_diff_flows = ('gen_diff_flows', 'sum'),\n",
    "    diff_flows = ('diff_flows', 'sum'),\n",
    "    z1_pwr = ('z1_pwr', 'sum'),\n",
    "    z2_pwr = ('z2_pwr', 'sum'),\n",
    "    z3_pwr = ('z3_pwr', 'sum')\n",
    ")\n",
    "\n",
    "tc_pwr_day = tc_pwr_day.reset_index(drop = False)"
   ]
  },
  {
   "cell_type": "code",
   "execution_count": 12,
   "id": "ae793d71",
   "metadata": {},
   "outputs": [
    {
     "data": {
      "text/html": [
       "<div>\n",
       "<style scoped>\n",
       "    .dataframe tbody tr th:only-of-type {\n",
       "        vertical-align: middle;\n",
       "    }\n",
       "\n",
       "    .dataframe tbody tr th {\n",
       "        vertical-align: top;\n",
       "    }\n",
       "\n",
       "    .dataframe thead th {\n",
       "        text-align: right;\n",
       "    }\n",
       "</style>\n",
       "<table border=\"1\" class=\"dataframe\">\n",
       "  <thead>\n",
       "    <tr style=\"text-align: right;\">\n",
       "      <th></th>\n",
       "      <th>date</th>\n",
       "      <th>temp</th>\n",
       "      <th>humidity</th>\n",
       "      <th>wind_speed</th>\n",
       "      <th>gen_diff_flows</th>\n",
       "      <th>diff_flows</th>\n",
       "      <th>z1_pwr</th>\n",
       "      <th>z2_pwr</th>\n",
       "      <th>z3_pwr</th>\n",
       "    </tr>\n",
       "  </thead>\n",
       "  <tbody>\n",
       "    <tr>\n",
       "      <th>0</th>\n",
       "      <td>2017-01-01</td>\n",
       "      <td>9.675299</td>\n",
       "      <td>68.519306</td>\n",
       "      <td>0.315146</td>\n",
       "      <td>17480.271</td>\n",
       "      <td>3743.125</td>\n",
       "      <td>4.098993e+06</td>\n",
       "      <td>2.554242e+06</td>\n",
       "      <td>2.573107e+06</td>\n",
       "    </tr>\n",
       "    <tr>\n",
       "      <th>1</th>\n",
       "      <td>2017-01-02</td>\n",
       "      <td>12.476875</td>\n",
       "      <td>71.456319</td>\n",
       "      <td>0.076563</td>\n",
       "      <td>17338.246</td>\n",
       "      <td>3920.747</td>\n",
       "      <td>4.157207e+06</td>\n",
       "      <td>2.816312e+06</td>\n",
       "      <td>2.566190e+06</td>\n",
       "    </tr>\n",
       "    <tr>\n",
       "      <th>2</th>\n",
       "      <td>2017-01-03</td>\n",
       "      <td>12.100000</td>\n",
       "      <td>74.981667</td>\n",
       "      <td>0.076715</td>\n",
       "      <td>17378.786</td>\n",
       "      <td>4114.751</td>\n",
       "      <td>4.400992e+06</td>\n",
       "      <td>2.888247e+06</td>\n",
       "      <td>2.537396e+06</td>\n",
       "    </tr>\n",
       "    <tr>\n",
       "      <th>3</th>\n",
       "      <td>2017-01-04</td>\n",
       "      <td>10.509479</td>\n",
       "      <td>75.459792</td>\n",
       "      <td>0.082417</td>\n",
       "      <td>17706.142</td>\n",
       "      <td>4151.120</td>\n",
       "      <td>4.419336e+06</td>\n",
       "      <td>2.894699e+06</td>\n",
       "      <td>2.545012e+06</td>\n",
       "    </tr>\n",
       "    <tr>\n",
       "      <th>4</th>\n",
       "      <td>2017-01-05</td>\n",
       "      <td>10.866444</td>\n",
       "      <td>71.040486</td>\n",
       "      <td>0.083896</td>\n",
       "      <td>17099.980</td>\n",
       "      <td>4282.767</td>\n",
       "      <td>4.435619e+06</td>\n",
       "      <td>2.884888e+06</td>\n",
       "      <td>2.543641e+06</td>\n",
       "    </tr>\n",
       "  </tbody>\n",
       "</table>\n",
       "</div>"
      ],
      "text/plain": [
       "         date       temp   humidity  wind_speed  gen_diff_flows  diff_flows  \\\n",
       "0  2017-01-01   9.675299  68.519306    0.315146       17480.271    3743.125   \n",
       "1  2017-01-02  12.476875  71.456319    0.076563       17338.246    3920.747   \n",
       "2  2017-01-03  12.100000  74.981667    0.076715       17378.786    4114.751   \n",
       "3  2017-01-04  10.509479  75.459792    0.082417       17706.142    4151.120   \n",
       "4  2017-01-05  10.866444  71.040486    0.083896       17099.980    4282.767   \n",
       "\n",
       "         z1_pwr        z2_pwr        z3_pwr  \n",
       "0  4.098993e+06  2.554242e+06  2.573107e+06  \n",
       "1  4.157207e+06  2.816312e+06  2.566190e+06  \n",
       "2  4.400992e+06  2.888247e+06  2.537396e+06  \n",
       "3  4.419336e+06  2.894699e+06  2.545012e+06  \n",
       "4  4.435619e+06  2.884888e+06  2.543641e+06  "
      ]
     },
     "execution_count": 12,
     "metadata": {},
     "output_type": "execute_result"
    }
   ],
   "source": [
    "tc_pwr_day.head()"
   ]
  },
  {
   "cell_type": "code",
   "execution_count": 13,
   "id": "0bfeb95d",
   "metadata": {},
   "outputs": [
    {
     "data": {
      "text/html": [
       "<div>\n",
       "<style scoped>\n",
       "    .dataframe tbody tr th:only-of-type {\n",
       "        vertical-align: middle;\n",
       "    }\n",
       "\n",
       "    .dataframe tbody tr th {\n",
       "        vertical-align: top;\n",
       "    }\n",
       "\n",
       "    .dataframe thead th {\n",
       "        text-align: right;\n",
       "    }\n",
       "</style>\n",
       "<table border=\"1\" class=\"dataframe\">\n",
       "  <thead>\n",
       "    <tr style=\"text-align: right;\">\n",
       "      <th></th>\n",
       "      <th>date</th>\n",
       "      <th>temp</th>\n",
       "      <th>humidity</th>\n",
       "      <th>wind_speed</th>\n",
       "      <th>gen_diff_flows</th>\n",
       "      <th>diff_flows</th>\n",
       "      <th>z1_pwr</th>\n",
       "      <th>z2_pwr</th>\n",
       "      <th>z3_pwr</th>\n",
       "    </tr>\n",
       "  </thead>\n",
       "  <tbody>\n",
       "    <tr>\n",
       "      <th>359</th>\n",
       "      <td>2017-12-26</td>\n",
       "      <td>11.621840</td>\n",
       "      <td>69.070903</td>\n",
       "      <td>0.083062</td>\n",
       "      <td>15384.483</td>\n",
       "      <td>7309.496</td>\n",
       "      <td>4.321941e+06</td>\n",
       "      <td>3.565009e+06</td>\n",
       "      <td>1.640978e+06</td>\n",
       "    </tr>\n",
       "    <tr>\n",
       "      <th>360</th>\n",
       "      <td>2017-12-27</td>\n",
       "      <td>15.232917</td>\n",
       "      <td>59.445903</td>\n",
       "      <td>0.082028</td>\n",
       "      <td>13808.257</td>\n",
       "      <td>6005.529</td>\n",
       "      <td>4.315243e+06</td>\n",
       "      <td>3.608277e+06</td>\n",
       "      <td>1.655752e+06</td>\n",
       "    </tr>\n",
       "    <tr>\n",
       "      <th>361</th>\n",
       "      <td>2017-12-28</td>\n",
       "      <td>13.662361</td>\n",
       "      <td>62.839375</td>\n",
       "      <td>0.081354</td>\n",
       "      <td>16217.303</td>\n",
       "      <td>4350.148</td>\n",
       "      <td>4.358449e+06</td>\n",
       "      <td>3.540276e+06</td>\n",
       "      <td>1.608052e+06</td>\n",
       "    </tr>\n",
       "    <tr>\n",
       "      <th>362</th>\n",
       "      <td>2017-12-29</td>\n",
       "      <td>12.990486</td>\n",
       "      <td>49.078750</td>\n",
       "      <td>0.078181</td>\n",
       "      <td>17599.683</td>\n",
       "      <td>3451.827</td>\n",
       "      <td>4.206187e+06</td>\n",
       "      <td>3.543958e+06</td>\n",
       "      <td>1.608663e+06</td>\n",
       "    </tr>\n",
       "    <tr>\n",
       "      <th>363</th>\n",
       "      <td>2017-12-30</td>\n",
       "      <td>11.688993</td>\n",
       "      <td>51.361667</td>\n",
       "      <td>0.078174</td>\n",
       "      <td>17829.234</td>\n",
       "      <td>3461.752</td>\n",
       "      <td>4.052976e+06</td>\n",
       "      <td>3.486425e+06</td>\n",
       "      <td>1.664759e+06</td>\n",
       "    </tr>\n",
       "  </tbody>\n",
       "</table>\n",
       "</div>"
      ],
      "text/plain": [
       "           date       temp   humidity  wind_speed  gen_diff_flows  diff_flows  \\\n",
       "359  2017-12-26  11.621840  69.070903    0.083062       15384.483    7309.496   \n",
       "360  2017-12-27  15.232917  59.445903    0.082028       13808.257    6005.529   \n",
       "361  2017-12-28  13.662361  62.839375    0.081354       16217.303    4350.148   \n",
       "362  2017-12-29  12.990486  49.078750    0.078181       17599.683    3451.827   \n",
       "363  2017-12-30  11.688993  51.361667    0.078174       17829.234    3461.752   \n",
       "\n",
       "           z1_pwr        z2_pwr        z3_pwr  \n",
       "359  4.321941e+06  3.565009e+06  1.640978e+06  \n",
       "360  4.315243e+06  3.608277e+06  1.655752e+06  \n",
       "361  4.358449e+06  3.540276e+06  1.608052e+06  \n",
       "362  4.206187e+06  3.543958e+06  1.608663e+06  \n",
       "363  4.052976e+06  3.486425e+06  1.664759e+06  "
      ]
     },
     "execution_count": 13,
     "metadata": {},
     "output_type": "execute_result"
    }
   ],
   "source": [
    "tc_pwr_day.tail()"
   ]
  },
  {
   "cell_type": "code",
   "execution_count": 14,
   "id": "e7537cd5",
   "metadata": {},
   "outputs": [
    {
     "data": {
      "text/plain": [
       "date               object\n",
       "temp              float64\n",
       "humidity          float64\n",
       "wind_speed        float64\n",
       "gen_diff_flows    float64\n",
       "diff_flows        float64\n",
       "z1_pwr            float64\n",
       "z2_pwr            float64\n",
       "z3_pwr            float64\n",
       "dtype: object"
      ]
     },
     "execution_count": 14,
     "metadata": {},
     "output_type": "execute_result"
    }
   ],
   "source": [
    "tc_pwr_day.dtypes"
   ]
  },
  {
   "cell_type": "code",
   "execution_count": 15,
   "id": "032f6eca",
   "metadata": {},
   "outputs": [
    {
     "data": {
      "text/plain": [
       "(364, 9)"
      ]
     },
     "execution_count": 15,
     "metadata": {},
     "output_type": "execute_result"
    }
   ],
   "source": [
    "tc_pwr_day.shape"
   ]
  },
  {
   "cell_type": "markdown",
   "id": "9597bec0",
   "metadata": {},
   "source": [
    "### Prepare Aggregated Data for Synthesizer"
   ]
  },
  {
   "cell_type": "code",
   "execution_count": 16,
   "id": "06bee051",
   "metadata": {},
   "outputs": [],
   "source": [
    "# Getting rid of date and making arrays for TimeGAN function\n",
    "tc_pwr_day_nodate = np.array(tc_pwr_day.iloc[:,1:9])\n",
    "\n",
    "# Scale data to [0,1] interval\n",
    "scaler = MinMaxScaler(feature_range = (0,1))\n",
    "scaled_day = scaler.fit_transform(tc_pwr_day_nodate)\n",
    "\n",
    "scaled_day2 = np.resize(scaled_day, (1, 364, 8))"
   ]
  },
  {
   "cell_type": "code",
   "execution_count": 18,
   "id": "8dbe40c7",
   "metadata": {},
   "outputs": [],
   "source": [
    "# GAN parameters\n",
    "batch_size = 1\n",
    "learning_rate = 5e-4\n",
    "noise_dim = 32\n",
    "dim = 24\n",
    "\n",
    "gan_args = ModelParameters(batch_size=batch_size,\n",
    "                           lr=learning_rate,\n",
    "                           noise_dim=noise_dim,\n",
    "                           layers_dim=dim)\n",
    "\n",
    "\n",
    "# TimeGAN specific parameters\n",
    "seq_len = scaled_day.shape[0] # obs in data\n",
    "n_seq = scaled_day.shape[1]   # variables in data\n",
    "\n",
    "# Troubleshooting code\n",
    "os.environ['CUDA_VISIBLE_DEVICES'] = \"0\"\n",
    "tf.keras.backend.set_image_data_format(\"channels_last\")"
   ]
  },
  {
   "cell_type": "code",
   "execution_count": 19,
   "id": "536187b7",
   "metadata": {},
   "outputs": [
    {
     "name": "stderr",
     "output_type": "stream",
     "text": [
      "2023-03-21 22:01:47.816722: E tensorflow/compiler/xla/stream_executor/cuda/cuda_driver.cc:267] failed call to cuInit: CUDA_ERROR_NO_DEVICE: no CUDA-capable device is detected\n",
      "2023-03-21 22:01:47.816808: I tensorflow/compiler/xla/stream_executor/cuda/cuda_diagnostics.cc:156] kernel driver does not appear to be running on this host (ip-172-16-81-27.us-east-2.compute.internal): /proc/driver/nvidia/version does not exist\n",
      "2023-03-21 22:01:47.834833: I tensorflow/core/platform/cpu_feature_guard.cc:193] This TensorFlow binary is optimized with oneAPI Deep Neural Network Library (oneDNN) to use the following CPU instructions in performance-critical operations:  AVX2 AVX512F FMA\n",
      "To enable them in other operations, rebuild TensorFlow with the appropriate compiler flags.\n",
      "Emddeding network training: 100%|██████████| 500/500 [03:12<00:00,  2.60it/s]\n",
      "Supervised network training: 100%|██████████| 500/500 [01:24<00:00,  5.92it/s]\n",
      "Joint networks training: 100%|██████████| 500/500 [6:35:03<00:00, 47.41s/it]  \n"
     ]
    }
   ],
   "source": [
    "if os.path.exists('synthesizer_tc_pwr_day.pkl'):\n",
    "    synth = TimeGAN.load('synthesizer_tc_pwr_day.pkl')\n",
    "else:\n",
    "    synth = TimeGAN(model_parameters=gan_args, hidden_dim=24, seq_len=seq_len, n_seq=n_seq, gamma=1)\n",
    "    synth.train(scaled_day2, train_steps=500)\n",
    "    synth.save('synthesizer_tc_pwr_day.pkl')"
   ]
  },
  {
   "cell_type": "code",
   "execution_count": 33,
   "id": "b55a3c87",
   "metadata": {},
   "outputs": [
    {
     "name": "stderr",
     "output_type": "stream",
     "text": [
      "Synthetic data generation: 100%|██████████| 1/1 [00:03<00:00,  3.52s/it]\n"
     ]
    }
   ],
   "source": [
    "# Generate synthetic data\n",
    "scaled_day2_synth = synth.sample(0)"
   ]
  },
  {
   "cell_type": "code",
   "execution_count": 34,
   "id": "f7edf3ba",
   "metadata": {},
   "outputs": [
    {
     "data": {
      "text/plain": [
       "(1, 364, 8)"
      ]
     },
     "execution_count": 34,
     "metadata": {},
     "output_type": "execute_result"
    }
   ],
   "source": [
    "scaled_day2_synth.shape"
   ]
  },
  {
   "cell_type": "code",
   "execution_count": 40,
   "id": "d57a64a9",
   "metadata": {},
   "outputs": [
    {
     "data": {
      "text/plain": [
       "(364, 8)"
      ]
     },
     "execution_count": 40,
     "metadata": {},
     "output_type": "execute_result"
    }
   ],
   "source": [
    "scaled_day2_synth_0 = scaled_day2_synth[0]\n",
    "scaled_day2_synth_0.shape"
   ]
  },
  {
   "cell_type": "code",
   "execution_count": 46,
   "id": "8d135f30",
   "metadata": {},
   "outputs": [
    {
     "data": {
      "text/plain": [
       "(364, 8)"
      ]
     },
     "execution_count": 46,
     "metadata": {},
     "output_type": "execute_result"
    }
   ],
   "source": [
    "# make synthesized data in original scale\n",
    "unscaled_day2_synth = scaler.inverse_transform(scaled_day2_synth_0)\n",
    "unscaled_day2_synth.shape"
   ]
  },
  {
   "cell_type": "code",
   "execution_count": 47,
   "id": "edd8bf13",
   "metadata": {},
   "outputs": [
    {
     "data": {
      "text/html": [
       "<div>\n",
       "<style scoped>\n",
       "    .dataframe tbody tr th:only-of-type {\n",
       "        vertical-align: middle;\n",
       "    }\n",
       "\n",
       "    .dataframe tbody tr th {\n",
       "        vertical-align: top;\n",
       "    }\n",
       "\n",
       "    .dataframe thead th {\n",
       "        text-align: right;\n",
       "    }\n",
       "</style>\n",
       "<table border=\"1\" class=\"dataframe\">\n",
       "  <thead>\n",
       "    <tr style=\"text-align: right;\">\n",
       "      <th></th>\n",
       "      <th>temp</th>\n",
       "      <th>humidity</th>\n",
       "      <th>wind_speed</th>\n",
       "      <th>gen_diff_flows</th>\n",
       "      <th>diff_flows</th>\n",
       "      <th>z1_pwr</th>\n",
       "      <th>z2_pwr</th>\n",
       "      <th>z3_pwr</th>\n",
       "    </tr>\n",
       "  </thead>\n",
       "  <tbody>\n",
       "    <tr>\n",
       "      <th>0</th>\n",
       "      <td>12.130336</td>\n",
       "      <td>74.320763</td>\n",
       "      <td>0.327842</td>\n",
       "      <td>16130.302734</td>\n",
       "      <td>4384.326660</td>\n",
       "      <td>4254893.5</td>\n",
       "      <td>2771892.50</td>\n",
       "      <td>2689854.50</td>\n",
       "    </tr>\n",
       "    <tr>\n",
       "      <th>1</th>\n",
       "      <td>12.377903</td>\n",
       "      <td>73.317581</td>\n",
       "      <td>0.120847</td>\n",
       "      <td>14517.184570</td>\n",
       "      <td>4053.237061</td>\n",
       "      <td>4287524.0</td>\n",
       "      <td>2799297.50</td>\n",
       "      <td>2475369.25</td>\n",
       "    </tr>\n",
       "    <tr>\n",
       "      <th>2</th>\n",
       "      <td>12.806835</td>\n",
       "      <td>74.183884</td>\n",
       "      <td>0.108594</td>\n",
       "      <td>12998.375977</td>\n",
       "      <td>4282.602539</td>\n",
       "      <td>4347913.0</td>\n",
       "      <td>2807689.25</td>\n",
       "      <td>2435136.25</td>\n",
       "    </tr>\n",
       "    <tr>\n",
       "      <th>3</th>\n",
       "      <td>13.238839</td>\n",
       "      <td>75.719093</td>\n",
       "      <td>0.107075</td>\n",
       "      <td>11782.285156</td>\n",
       "      <td>4617.543457</td>\n",
       "      <td>4389643.5</td>\n",
       "      <td>2821528.75</td>\n",
       "      <td>2440698.50</td>\n",
       "    </tr>\n",
       "    <tr>\n",
       "      <th>4</th>\n",
       "      <td>13.681409</td>\n",
       "      <td>76.648277</td>\n",
       "      <td>0.104652</td>\n",
       "      <td>11139.827148</td>\n",
       "      <td>4989.103516</td>\n",
       "      <td>4406766.5</td>\n",
       "      <td>2831252.50</td>\n",
       "      <td>2462341.50</td>\n",
       "    </tr>\n",
       "  </tbody>\n",
       "</table>\n",
       "</div>"
      ],
      "text/plain": [
       "        temp   humidity  wind_speed  gen_diff_flows   diff_flows     z1_pwr  \\\n",
       "0  12.130336  74.320763    0.327842    16130.302734  4384.326660  4254893.5   \n",
       "1  12.377903  73.317581    0.120847    14517.184570  4053.237061  4287524.0   \n",
       "2  12.806835  74.183884    0.108594    12998.375977  4282.602539  4347913.0   \n",
       "3  13.238839  75.719093    0.107075    11782.285156  4617.543457  4389643.5   \n",
       "4  13.681409  76.648277    0.104652    11139.827148  4989.103516  4406766.5   \n",
       "\n",
       "       z2_pwr      z3_pwr  \n",
       "0  2771892.50  2689854.50  \n",
       "1  2799297.50  2475369.25  \n",
       "2  2807689.25  2435136.25  \n",
       "3  2821528.75  2440698.50  \n",
       "4  2831252.50  2462341.50  "
      ]
     },
     "execution_count": 47,
     "metadata": {},
     "output_type": "execute_result"
    }
   ],
   "source": [
    "tc_pwr_day_synth = pd.DataFrame(unscaled_day2_synth,\n",
    "                               columns = ['temp','humidity','wind_speed','gen_diff_flows',\n",
    "                                          'diff_flows','z1_pwr','z2_pwr','z3_pwr'])\n",
    "tc_pwr_day_synth.head()"
   ]
  },
  {
   "cell_type": "code",
   "execution_count": 48,
   "id": "b8661220",
   "metadata": {},
   "outputs": [
    {
     "data": {
      "text/html": [
       "<div>\n",
       "<style scoped>\n",
       "    .dataframe tbody tr th:only-of-type {\n",
       "        vertical-align: middle;\n",
       "    }\n",
       "\n",
       "    .dataframe tbody tr th {\n",
       "        vertical-align: top;\n",
       "    }\n",
       "\n",
       "    .dataframe thead th {\n",
       "        text-align: right;\n",
       "    }\n",
       "</style>\n",
       "<table border=\"1\" class=\"dataframe\">\n",
       "  <thead>\n",
       "    <tr style=\"text-align: right;\">\n",
       "      <th></th>\n",
       "      <th>temp</th>\n",
       "      <th>humidity</th>\n",
       "      <th>wind_speed</th>\n",
       "      <th>gen_diff_flows</th>\n",
       "      <th>diff_flows</th>\n",
       "      <th>z1_pwr</th>\n",
       "      <th>z2_pwr</th>\n",
       "      <th>z3_pwr</th>\n",
       "    </tr>\n",
       "  </thead>\n",
       "  <tbody>\n",
       "    <tr>\n",
       "      <th>count</th>\n",
       "      <td>364.000000</td>\n",
       "      <td>364.000000</td>\n",
       "      <td>364.000000</td>\n",
       "      <td>364.000000</td>\n",
       "      <td>364.000000</td>\n",
       "      <td>364.000</td>\n",
       "      <td>3.640000e+02</td>\n",
       "      <td>364.000</td>\n",
       "    </tr>\n",
       "    <tr>\n",
       "      <th>mean</th>\n",
       "      <td>18.565718</td>\n",
       "      <td>66.542961</td>\n",
       "      <td>2.078659</td>\n",
       "      <td>28293.939453</td>\n",
       "      <td>10551.811523</td>\n",
       "      <td>4620509.000</td>\n",
       "      <td>3.046825e+06</td>\n",
       "      <td>2538442.250</td>\n",
       "    </tr>\n",
       "    <tr>\n",
       "      <th>std</th>\n",
       "      <td>5.362943</td>\n",
       "      <td>5.271105</td>\n",
       "      <td>2.191741</td>\n",
       "      <td>14503.333984</td>\n",
       "      <td>4799.035156</td>\n",
       "      <td>377405.375</td>\n",
       "      <td>2.821105e+05</td>\n",
       "      <td>556258.750</td>\n",
       "    </tr>\n",
       "    <tr>\n",
       "      <th>min</th>\n",
       "      <td>11.649935</td>\n",
       "      <td>57.566711</td>\n",
       "      <td>0.071221</td>\n",
       "      <td>7241.521973</td>\n",
       "      <td>4053.237061</td>\n",
       "      <td>4096796.750</td>\n",
       "      <td>2.408406e+06</td>\n",
       "      <td>1771869.625</td>\n",
       "    </tr>\n",
       "    <tr>\n",
       "      <th>25%</th>\n",
       "      <td>13.738938</td>\n",
       "      <td>62.428345</td>\n",
       "      <td>0.093693</td>\n",
       "      <td>10775.555176</td>\n",
       "      <td>6329.303223</td>\n",
       "      <td>4348889.125</td>\n",
       "      <td>2.798741e+06</td>\n",
       "      <td>2164600.250</td>\n",
       "    </tr>\n",
       "    <tr>\n",
       "      <th>50%</th>\n",
       "      <td>17.875117</td>\n",
       "      <td>65.847202</td>\n",
       "      <td>0.133754</td>\n",
       "      <td>33008.826172</td>\n",
       "      <td>9668.206055</td>\n",
       "      <td>4527158.000</td>\n",
       "      <td>3.004557e+06</td>\n",
       "      <td>2523455.375</td>\n",
       "    </tr>\n",
       "    <tr>\n",
       "      <th>75%</th>\n",
       "      <td>24.316883</td>\n",
       "      <td>70.282919</td>\n",
       "      <td>4.880797</td>\n",
       "      <td>42574.833984</td>\n",
       "      <td>14027.094482</td>\n",
       "      <td>4947001.125</td>\n",
       "      <td>3.287254e+06</td>\n",
       "      <td>2712859.625</td>\n",
       "    </tr>\n",
       "    <tr>\n",
       "      <th>max</th>\n",
       "      <td>26.889494</td>\n",
       "      <td>87.680855</td>\n",
       "      <td>4.919249</td>\n",
       "      <td>47033.187500</td>\n",
       "      <td>23992.001953</td>\n",
       "      <td>5367952.000</td>\n",
       "      <td>3.557332e+06</td>\n",
       "      <td>3747234.750</td>\n",
       "    </tr>\n",
       "  </tbody>\n",
       "</table>\n",
       "</div>"
      ],
      "text/plain": [
       "             temp    humidity  wind_speed  gen_diff_flows    diff_flows  \\\n",
       "count  364.000000  364.000000  364.000000      364.000000    364.000000   \n",
       "mean    18.565718   66.542961    2.078659    28293.939453  10551.811523   \n",
       "std      5.362943    5.271105    2.191741    14503.333984   4799.035156   \n",
       "min     11.649935   57.566711    0.071221     7241.521973   4053.237061   \n",
       "25%     13.738938   62.428345    0.093693    10775.555176   6329.303223   \n",
       "50%     17.875117   65.847202    0.133754    33008.826172   9668.206055   \n",
       "75%     24.316883   70.282919    4.880797    42574.833984  14027.094482   \n",
       "max     26.889494   87.680855    4.919249    47033.187500  23992.001953   \n",
       "\n",
       "            z1_pwr        z2_pwr       z3_pwr  \n",
       "count      364.000  3.640000e+02      364.000  \n",
       "mean   4620509.000  3.046825e+06  2538442.250  \n",
       "std     377405.375  2.821105e+05   556258.750  \n",
       "min    4096796.750  2.408406e+06  1771869.625  \n",
       "25%    4348889.125  2.798741e+06  2164600.250  \n",
       "50%    4527158.000  3.004557e+06  2523455.375  \n",
       "75%    4947001.125  3.287254e+06  2712859.625  \n",
       "max    5367952.000  3.557332e+06  3747234.750  "
      ]
     },
     "execution_count": 48,
     "metadata": {},
     "output_type": "execute_result"
    }
   ],
   "source": [
    "tc_pwr_day_synth.describe()\n",
    "    # similar to tc_pwr_day_desc\n",
    "    # for some variables, extreme values are more extreme in the original data\n",
    "    # for others, the extreme values are more extreme in synthetic data"
   ]
  },
  {
   "cell_type": "code",
   "execution_count": 53,
   "id": "997e6506",
   "metadata": {},
   "outputs": [],
   "source": [
    "tc_pwr_day_synth.to_csv('TC Day Synth.csv', index = False)"
   ]
  }
 ],
 "metadata": {
  "kernelspec": {
   "display_name": "Python 3 (ipykernel)",
   "language": "python",
   "name": "python3"
  },
  "language_info": {
   "codemirror_mode": {
    "name": "ipython",
    "version": 3
   },
   "file_extension": ".py",
   "mimetype": "text/x-python",
   "name": "python",
   "nbconvert_exporter": "python",
   "pygments_lexer": "ipython3",
   "version": "3.10.9"
  }
 },
 "nbformat": 4,
 "nbformat_minor": 5
}
